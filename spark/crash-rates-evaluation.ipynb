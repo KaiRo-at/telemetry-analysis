{
 "cells": [
  {
   "cell_type": "markdown",
   "metadata": {},
   "source": [
    "# KaiRo's telemetry tinkering"
   ]
  },
  {
   "cell_type": "code",
   "execution_count": 1,
   "metadata": {
    "collapsed": false,
    "scrolled": false
   },
   "outputs": [
    {
     "name": "stdout",
     "output_type": "stream",
     "text": [
      "Unable to parse whitelist (/home/hadoop/anaconda2/lib/python2.7/site-packages/moztelemetry/bucket-whitelist.json). Assuming all histograms are acceptable.\n",
      "Populating the interactive namespace from numpy and matplotlib\n"
     ]
    }
   ],
   "source": [
    "import IPython\n",
    "\n",
    "from __future__ import division\n",
    "from moztelemetry.spark import get_pings, get_pings_properties\n",
    "\n",
    "%pylab inline\n",
    "IPython.core.pylabtools.figsize(16, 7)"
   ]
  },
  {
   "cell_type": "code",
   "execution_count": 2,
   "metadata": {
    "collapsed": false
   },
   "outputs": [],
   "source": [
    "PING_OPTIONS = {\n",
    "    \"app\": \"Firefox\",\n",
    "    \"channel\": \"beta\",\n",
    "    \"version\": \"45.0\",\n",
    "    \"build_id\": \"20160215141016\", #(\"20160215141016\", \"20160223142613\"),\n",
    "    \"submission_date\": \"20160222\", #(\"20160219\", \"20160225\"),\n",
    "    \"fraction\": 1,\n",
    "}\n",
    "main_pings = get_pings(sc, doc_type=\"main\", **PING_OPTIONS).filter(lambda p: \"clientId\" in p)\n",
    "main_ping_data = get_pings_properties(main_pings,\n",
    "                                      [\"clientId\",\n",
    "                                       \"environment/settings/e10sEnabled\",\n",
    "                                       \"payload/info/subsessionLength\",\n",
    "                                       \"payload/keyedHistograms/SUBPROCESS_CRASHES_WITH_DUMP/content\",\n",
    "                                       \"payload/keyedHistograms/SUBPROCESS_CRASHES_WITH_DUMP/plugin\"])\n",
    "crash_pings = get_pings(sc, doc_type=\"crash\", **PING_OPTIONS).filter(lambda p: \"clientId\" in p)\n",
    "crash_ping_data = get_pings_properties(crash_pings,\n",
    "                                       [\"clientId\",\n",
    "                                        \"environment/settings/e10sEnabled\"])"
   ]
  },
  {
   "cell_type": "code",
   "execution_count": 6,
   "metadata": {
    "collapsed": false
   },
   "outputs": [],
   "source": [
    "main_ping_installations = main_ping_data.map(lambda p: (p[\"clientId\"], 0)).groupByKey().count()"
   ]
  },
  {
   "cell_type": "code",
   "execution_count": 7,
   "metadata": {
    "collapsed": true
   },
   "outputs": [],
   "source": [
    "crash_ping_installations = crash_ping_data.map(lambda p: (p[\"clientId\"], 0)).groupByKey().count()"
   ]
  },
  {
   "cell_type": "code",
   "execution_count": 8,
   "metadata": {
    "collapsed": false
   },
   "outputs": [
    {
     "name": "stdout",
     "output_type": "stream",
     "text": [
      "main pings: 3023372\n",
      "main installations: 1219772\n",
      "crash pings: 76034\n",
      "crash ping installations: 52130\n"
     ]
    }
   ],
   "source": [
    "print(\"main pings: \" + str(main_ping_data.count()))\n",
    "print(\"main installations: \" + str(main_ping_installations))\n",
    "print(\"crash pings: \" + str(crash_ping_data.count()))\n",
    "print(\"crash ping installations: \" + str(crash_ping_installations))"
   ]
  },
  {
   "cell_type": "code",
   "execution_count": 10,
   "metadata": {
    "collapsed": false
   },
   "outputs": [],
   "source": [
    "class Accumulators():\n",
    "    def __init__(self, cx):\n",
    "        self.main_crashes = cx.accumulator(0)\n",
    "        self.content_crashes = cx.accumulator(0)\n",
    "        self.plugin_crashes = cx.accumulator(0)\n",
    "        self.session_seconds = cx.accumulator(0)\n",
    "        \n",
    "    def khours(self):\n",
    "        return self.session_seconds.value / 3600.0 / 1000\n",
    "    \n",
    "\n",
    "non_e10s = Accumulators(sc)\n",
    "e10s = Accumulators(sc)\n",
    "counts = Accumulators(sc)\n",
    "\n",
    "def process_main(d):\n",
    "    if d[\"environment/settings/e10sEnabled\"] == True:\n",
    "        acc = e10s\n",
    "    else:\n",
    "        acc = non_e10s\n",
    "\n",
    "    content = d[\"payload/keyedHistograms/SUBPROCESS_CRASHES_WITH_DUMP/content\"]\n",
    "    if content is not None:\n",
    "        acc.content_crashes.add(content)\n",
    "        counts.content_crashes.add(content)\n",
    "\n",
    "    plugin = d[\"payload/keyedHistograms/SUBPROCESS_CRASHES_WITH_DUMP/plugin\"]\n",
    "    if plugin is not None:\n",
    "        acc.plugin_crashes.add(plugin)\n",
    "        counts.plugin_crashes.add(plugin)\n",
    "    \n",
    "    length = d[\"payload/info/subsessionLength\"]\n",
    "    if length is not None:\n",
    "        acc.session_seconds.add(length)\n",
    "        counts.session_seconds.add(length)\n",
    "\n",
    "main_ping_data.foreach(process_main)\n",
    "\n",
    "def process_crash(d):\n",
    "    if d[\"environment/settings/e10sEnabled\"] == True:\n",
    "        acc = e10s\n",
    "    else:\n",
    "        acc = non_e10s\n",
    "\n",
    "    acc.main_crashes.add(1)\n",
    "    counts.main_crashes.add(1)\n",
    "\n",
    "crash_ping_data.foreach(process_crash)"
   ]
  },
  {
   "cell_type": "code",
   "execution_count": 11,
   "metadata": {
    "collapsed": false
   },
   "outputs": [
    {
     "name": "stdout",
     "output_type": "stream",
     "text": [
      "crashes: 92530 - m: 76034, c: 16496, p: 33710 - kh: 5263.75 - i: 1219772\n",
      "non-e10s: 80740 - m: 71968, c: 8772, p: 26926 - kh: 4803.79\n",
      "e10s: 11790 - m: 4066, c: 7724, p: 6784 - kh: 459.95\n",
      "irate: 7.59 - m: 6.23, c: 1.35, p: 2.76\n",
      "hrate: 17.58 - m: 14.44, c: 3.13, p: 6.40\n",
      "hrate(non-e10s): 16.81 - m: 14.98, c: 1.83, p: 5.61\n",
      "hrate(e10s): 25.63 - m: 8.84, c: 16.79, p: 14.75\n"
     ]
    }
   ],
   "source": [
    "print(\"crashes: {0} - m: {1}, c: {2}, p: {3} - kh: {4:.2f} - i: {5}\".format(\n",
    "        counts.main_crashes.value + counts.content_crashes.value,\n",
    "        counts.main_crashes.value,\n",
    "        counts.content_crashes.value,\n",
    "        counts.plugin_crashes.value,\n",
    "        counts.khours(),\n",
    "        main_ping_installations))\n",
    "print(\"non-e10s: {0} - m: {1}, c: {2}, p: {3} - kh: {4:.2f}\".format(\n",
    "        non_e10s.main_crashes.value + non_e10s.content_crashes.value,\n",
    "        non_e10s.main_crashes.value,\n",
    "        non_e10s.content_crashes.value,\n",
    "        non_e10s.plugin_crashes.value,\n",
    "        non_e10s.khours()))\n",
    "print(\"e10s: {0} - m: {1}, c: {2}, p: {3} - kh: {4:.2f}\".format(\n",
    "        e10s.main_crashes.value + e10s.content_crashes.value,\n",
    "        e10s.main_crashes.value,\n",
    "        e10s.content_crashes.value,\n",
    "        e10s.plugin_crashes.value,\n",
    "        e10s.khours()))\n",
    "print(\"irate: {0:.2f} - m: {1:.2f}, c: {2:.2f}, p: {3:.2f}\".format(\n",
    "        100*(counts.main_crashes.value+counts.content_crashes.value)/main_ping_installations,\n",
    "        100*counts.main_crashes.value/main_ping_installations,\n",
    "        100*counts.content_crashes.value/main_ping_installations,\n",
    "        100*counts.plugin_crashes.value/main_ping_installations))\n",
    "print(\"hrate: {0:.2f} - m: {1:.2f}, c: {2:.2f}, p: {3:.2f}\".format(\n",
    "        (counts.main_crashes.value + counts.content_crashes.value)/counts.khours(),\n",
    "        counts.main_crashes.value/counts.khours(),\n",
    "        counts.content_crashes.value/counts.khours(),\n",
    "        counts.plugin_crashes.value/counts.khours()))\n",
    "print(\"hrate(non-e10s): {0:.2f} - m: {1:.2f}, c: {2:.2f}, p: {3:.2f}\".format(\n",
    "        (non_e10s.main_crashes.value + non_e10s.content_crashes.value)/non_e10s.khours(),\n",
    "        non_e10s.main_crashes.value/non_e10s.khours(),\n",
    "        non_e10s.content_crashes.value/non_e10s.khours(),\n",
    "        non_e10s.plugin_crashes.value/non_e10s.khours()))\n",
    "print(\"hrate(e10s): {0:.2f} - m: {1:.2f}, c: {2:.2f}, p: {3:.2f}\".format(\n",
    "        (e10s.main_crashes.value + e10s.content_crashes.value)/e10s.khours(),\n",
    "        e10s.main_crashes.value/e10s.khours(),\n",
    "        e10s.content_crashes.value/e10s.khours(),\n",
    "        e10s.plugin_crashes.value/e10s.khours()))\n"
   ]
  },
  {
   "cell_type": "code",
   "execution_count": null,
   "metadata": {
    "collapsed": true
   },
   "outputs": [],
   "source": []
  }
 ],
 "metadata": {
  "kernelspec": {
   "display_name": "Python 2",
   "language": "python",
   "name": "python2"
  },
  "language_info": {
   "codemirror_mode": {
    "name": "ipython",
    "version": 2
   },
   "file_extension": ".py",
   "mimetype": "text/x-python",
   "name": "python",
   "nbconvert_exporter": "python",
   "pygments_lexer": "ipython2",
   "version": "2.7.10"
  }
 },
 "nbformat": 4,
 "nbformat_minor": 0
}
